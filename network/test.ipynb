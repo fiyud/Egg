{
 "cells": [
  {
   "cell_type": "code",
   "execution_count": 1,
   "metadata": {},
   "outputs": [
    {
     "name": "stderr",
     "output_type": "stream",
     "text": [
      "c:\\Users\\Admin\\anaconda3\\envs\\dfine\\Lib\\site-packages\\tqdm\\auto.py:21: TqdmWarning: IProgress not found. Please update jupyter and ipywidgets. See https://ipywidgets.readthedocs.io/en/stable/user_install.html\n",
      "  from .autonotebook import tqdm as notebook_tqdm\n"
     ]
    }
   ],
   "source": [
    "from backbone.mobilenetv4 import MobileNetV4\n",
    "import torch"
   ]
  },
  {
   "cell_type": "code",
   "execution_count": 2,
   "metadata": {},
   "outputs": [],
   "source": [
    "v4 = MobileNetV4(\"MobileNetV4HybridLarge\")"
   ]
  },
  {
   "cell_type": "code",
   "execution_count": 4,
   "metadata": {},
   "outputs": [
    {
     "data": {
      "text/plain": [
       "OrderedDict([('out',\n",
       "              tensor([[[[0.8358, 1.8703, 0.0000,  ..., 2.6638, 1.3153, 0.0000],\n",
       "                        [0.8159, 0.0000, 0.3757,  ..., 0.9979, 0.4297, 0.0000],\n",
       "                        [1.5140, 0.0000, 0.8156,  ..., 1.9198, 0.3346, 0.2037],\n",
       "                        ...,\n",
       "                        [0.0000, 0.2960, 0.0000,  ..., 1.4772, 0.1034, 0.0000],\n",
       "                        [0.0000, 0.0000, 0.0134,  ..., 1.4301, 0.0000, 0.8709],\n",
       "                        [1.5899, 0.0000, 0.0000,  ..., 0.0000, 0.2382, 1.4022]],\n",
       "              \n",
       "                       [[0.0538, 0.3833, 0.0755,  ..., 0.2328, 1.7385, 0.5923],\n",
       "                        [0.0000, 0.3840, 0.3599,  ..., 0.0000, 0.0000, 0.5093],\n",
       "                        [0.3136, 1.0152, 2.9556,  ..., 0.1891, 0.0000, 0.5598],\n",
       "                        ...,\n",
       "                        [0.0000, 0.0000, 0.1645,  ..., 0.0000, 1.2558, 0.0000],\n",
       "                        [0.0000, 0.6100, 0.7964,  ..., 0.0161, 1.1665, 1.3257],\n",
       "                        [0.0000, 0.0000, 0.0000,  ..., 0.0000, 0.0000, 0.0000]],\n",
       "              \n",
       "                       [[0.0000, 0.1033, 0.0000,  ..., 1.0642, 0.6401, 0.0000],\n",
       "                        [1.0085, 0.0000, 1.4592,  ..., 0.0000, 0.0000, 0.0000],\n",
       "                        [0.0000, 1.0053, 0.1472,  ..., 2.8882, 0.0000, 0.0888],\n",
       "                        ...,\n",
       "                        [0.6044, 0.1504, 0.0000,  ..., 0.4881, 0.7413, 0.7694],\n",
       "                        [0.0000, 0.0000, 0.2654,  ..., 0.5839, 1.5107, 0.4641],\n",
       "                        [1.3338, 0.0000, 0.9269,  ..., 0.0000, 0.6671, 1.4333]],\n",
       "              \n",
       "                       ...,\n",
       "              \n",
       "                       [[0.0000, 0.0000, 0.0000,  ..., 0.0000, 0.0000, 0.0000],\n",
       "                        [0.0000, 0.0000, 0.0000,  ..., 0.0000, 0.0000, 0.0000],\n",
       "                        [0.0000, 0.0000, 0.0000,  ..., 0.0000, 0.0000, 0.0000],\n",
       "                        ...,\n",
       "                        [0.0000, 0.0000, 0.0000,  ..., 0.1529, 0.1529, 0.1529],\n",
       "                        [0.0000, 0.0000, 0.0000,  ..., 0.1529, 0.1529, 0.1529],\n",
       "                        [0.0000, 0.0000, 0.0000,  ..., 0.1529, 0.1529, 0.1529]],\n",
       "              \n",
       "                       [[0.5196, 0.5196, 0.5196,  ..., 0.0000, 0.0000, 0.0000],\n",
       "                        [0.5196, 0.5196, 0.5196,  ..., 0.0000, 0.0000, 0.0000],\n",
       "                        [0.5196, 0.5196, 0.5196,  ..., 0.0000, 0.0000, 0.0000],\n",
       "                        ...,\n",
       "                        [0.8680, 0.8680, 0.8680,  ..., 0.1881, 0.1881, 0.1881],\n",
       "                        [0.8680, 0.8680, 0.8680,  ..., 0.1881, 0.1881, 0.1881],\n",
       "                        [0.8680, 0.8680, 0.8680,  ..., 0.1881, 0.1881, 0.1881]],\n",
       "              \n",
       "                       [[0.0000, 0.0000, 0.0000,  ..., 0.1700, 0.1700, 0.1700],\n",
       "                        [0.0000, 0.0000, 0.0000,  ..., 0.1700, 0.1700, 0.1700],\n",
       "                        [0.0000, 0.0000, 0.0000,  ..., 0.1700, 0.1700, 0.1700],\n",
       "                        ...,\n",
       "                        [0.3453, 0.3453, 0.3453,  ..., 0.0000, 0.0000, 0.0000],\n",
       "                        [0.3453, 0.3453, 0.3453,  ..., 0.0000, 0.0000, 0.0000],\n",
       "                        [0.3453, 0.3453, 0.3453,  ..., 0.0000, 0.0000, 0.0000]]]],\n",
       "                     grad_fn=<CatBackward0>))])"
      ]
     },
     "execution_count": 4,
     "metadata": {},
     "output_type": "execute_result"
    }
   ],
   "source": [
    "v4(torch.rand(1, 3, 640, 640))"
   ]
  },
  {
   "cell_type": "code",
   "execution_count": 3,
   "metadata": {},
   "outputs": [],
   "source": [
    "import modeling\n",
    "import torch\n",
    "\n",
    "model = modeling._load_mobilev4_backbone_model(\"MobileNetV4HybridLarge\", num_classes=12)"
   ]
  },
  {
   "cell_type": "code",
   "execution_count": 4,
   "metadata": {},
   "outputs": [
    {
     "data": {
      "text/plain": [
       "torch.Size([1, 12, 640, 640])"
      ]
     },
     "execution_count": 4,
     "metadata": {},
     "output_type": "execute_result"
    }
   ],
   "source": [
    "model.eval()\n",
    "model(torch.rand(1, 3, 640, 640)).shape"
   ]
  }
 ],
 "metadata": {
  "kernelspec": {
   "display_name": "dfine",
   "language": "python",
   "name": "python3"
  },
  "language_info": {
   "codemirror_mode": {
    "name": "ipython",
    "version": 3
   },
   "file_extension": ".py",
   "mimetype": "text/x-python",
   "name": "python",
   "nbconvert_exporter": "python",
   "pygments_lexer": "ipython3",
   "version": "3.11.9"
  }
 },
 "nbformat": 4,
 "nbformat_minor": 2
}
