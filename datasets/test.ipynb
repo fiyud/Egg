{
 "cells": [
  {
   "cell_type": "code",
   "execution_count": 1,
   "metadata": {},
   "outputs": [
    {
     "name": "stderr",
     "output_type": "stream",
     "text": [
      "c:\\Users\\Admin\\anaconda3\\envs\\dfine\\Lib\\site-packages\\tqdm\\auto.py:21: TqdmWarning: IProgress not found. Please update jupyter and ipywidgets. See https://ipywidgets.readthedocs.io/en/stable/user_install.html\n",
      "  from .autonotebook import tqdm as notebook_tqdm\n"
     ]
    }
   ],
   "source": [
    "from egg import EggDataset"
   ]
  },
  {
   "cell_type": "code",
   "execution_count": 2,
   "metadata": {},
   "outputs": [],
   "source": [
    "eggdataset = EggDataset(root = \"C:/Users/Admin/Desktop/Desktop/Deeplabv3/DeepLabV3Plus-Pytorch/eggdataset/\", split='valid')"
   ]
  },
  {
   "cell_type": "code",
   "execution_count": 6,
   "metadata": {},
   "outputs": [
    {
     "ename": "AttributeError",
     "evalue": "'EggDataset' object has no attribute 'id_to_train_id'",
     "output_type": "error",
     "traceback": [
      "\u001b[1;31m---------------------------------------------------------------------------\u001b[0m",
      "\u001b[1;31mAttributeError\u001b[0m                            Traceback (most recent call last)",
      "Cell \u001b[1;32mIn[6], line 1\u001b[0m\n\u001b[1;32m----> 1\u001b[0m \u001b[43meggdataset\u001b[49m\u001b[38;5;241;43m.\u001b[39;49m\u001b[43mid_to_train_id\u001b[49m\n",
      "\u001b[1;31mAttributeError\u001b[0m: 'EggDataset' object has no attribute 'id_to_train_id'"
     ]
    }
   ],
   "source": [
    "eggdataset.id_to_train_id"
   ]
  },
  {
   "cell_type": "code",
   "execution_count": 9,
   "metadata": {},
   "outputs": [],
   "source": [
    "import os\n",
    "import xml.etree.ElementTree as ET\n",
    "\n",
    "def clean_folder(xml_folder, img_folder):\n",
    "    \"\"\"\n",
    "    Xóa các file XML và ảnh không có polygon trong file XML.\n",
    "\n",
    "    Args:\n",
    "        xml_folder (str): Đường dẫn đến thư mục chứa các file XML.\n",
    "        img_folder (str): Đường dẫn đến thư mục chứa các file ảnh.\n",
    "    \"\"\"\n",
    "    for xml_file in os.listdir(xml_folder):\n",
    "        if not xml_file.endswith(\".xml\"):\n",
    "            continue\n",
    "        \n",
    "        xml_path = os.path.join(xml_folder, xml_file)\n",
    "        \n",
    "        try:\n",
    "            # Parse file XML\n",
    "            tree = ET.parse(xml_path)\n",
    "            root = tree.getroot()\n",
    "            \n",
    "            # Kiểm tra xem có phần tử <polygon> hay không\n",
    "            polygons = root.findall(\".//polygon\")\n",
    "            if not polygons:\n",
    "                print(f\"No polygon found in: {xml_file}. Deleting...\")\n",
    "                \n",
    "                # Xóa file XML\n",
    "                os.remove(xml_path)\n",
    "\n",
    "                # Tên file ảnh (giả định tên ảnh trùng với tên XML, khác phần mở rộng)\n",
    "                image_name = os.path.splitext(xml_file)[0]\n",
    "                for ext in ['.jpg', '.png', '.jpeg']:  # Thêm các định dạng bạn muốn kiểm tra\n",
    "                    img_path = os.path.join(img_folder, image_name + ext)\n",
    "                    if os.path.exists(img_path):\n",
    "                        os.remove(img_path)\n",
    "                        print(f\"Deleted corresponding image: {image_name + ext}\")\n",
    "        except Exception as e:\n",
    "            print(f\"Error processing {xml_file}: {e}\")\n",
    "\n",
    "# Đường dẫn tới folder\n",
    "xml_folder_path = r\"C:\\Users\\Admin\\Desktop\\Desktop\\Deeplabv3\\DeepLabV3Plus-Pytorch\\eggdataset\\train\"\n",
    "img_folder_path = r\"C:\\Users\\Admin\\Desktop\\Desktop\\Deeplabv3\\DeepLabV3Plus-Pytorch\\eggdataset\\train\"\n",
    "\n",
    "clean_folder(xml_folder_path, img_folder_path)\n"
   ]
  },
  {
   "cell_type": "code",
   "execution_count": 4,
   "metadata": {},
   "outputs": [],
   "source": [
    "import matplotlib.pyplot as plt\n",
    "%matplotlib inline"
   ]
  },
  {
   "cell_type": "code",
   "execution_count": 3,
   "metadata": {},
   "outputs": [
    {
     "data": {
      "text/plain": [
       "(<PIL.Image.Image image mode=RGB size=640x640>,\n",
       " tensor([[0, 0, 0,  ..., 0, 0, 0],\n",
       "         [0, 0, 0,  ..., 0, 0, 0],\n",
       "         [0, 0, 0,  ..., 0, 0, 0],\n",
       "         ...,\n",
       "         [0, 0, 0,  ..., 0, 0, 0],\n",
       "         [0, 0, 0,  ..., 0, 0, 0],\n",
       "         [0, 0, 0,  ..., 0, 0, 0]], dtype=torch.uint8))"
      ]
     },
     "execution_count": 3,
     "metadata": {},
     "output_type": "execute_result"
    }
   ],
   "source": [
    "eggdataset.__getitem__(0)"
   ]
  },
  {
   "cell_type": "code",
   "execution_count": 6,
   "metadata": {},
   "outputs": [
    {
     "data": {
      "text/plain": [
       "tensor(4, dtype=torch.uint8)"
      ]
     },
     "execution_count": 6,
     "metadata": {},
     "output_type": "execute_result"
    }
   ],
   "source": [
    "max(eggdataset.__getitem__(0)[1].flatten())"
   ]
  },
  {
   "cell_type": "code",
   "execution_count": 7,
   "metadata": {},
   "outputs": [
    {
     "data": {
      "text/plain": [
       "<matplotlib.image.AxesImage at 0x238e1191d90>"
      ]
     },
     "execution_count": 7,
     "metadata": {},
     "output_type": "execute_result"
    },
    {
     "data": {
      "image/png": "[encoded data removed]",
      "text/plain": [
       "<Figure size 640x480 with 1 Axes>"
      ]
     },
     "metadata": {},
     "output_type": "display_data"
    }
   ],
   "source": [
    "plt.imshow(eggdataset.__getitem__(0)[1])"
   ]
  },
  {
   "cell_type": "code",
   "execution_count": null,
   "metadata": {},
   "outputs": [],
   "source": []
  }
 ],
 "metadata": {
  "kernelspec": {
   "display_name": "dfine",
   "language": "python",
   "name": "python3"
  },
  "language_info": {
   "codemirror_mode": {
    "name": "ipython",
    "version": 3
   },
   "file_extension": ".py",
   "mimetype": "text/x-python",
   "name": "python",
   "nbconvert_exporter": "python",
   "pygments_lexer": "ipython3",
   "version": "3.11.9"
  }
 },
 "nbformat": 4,
 "nbformat_minor": 2
}
